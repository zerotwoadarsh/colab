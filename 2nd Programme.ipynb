{
  "cells": [
    {
      "cell_type": "markdown",
      "metadata": {
        "id": "view-in-github",
        "colab_type": "text"
      },
      "source": [
        "<a href=\"https://colab.research.google.com/github/zerotwoadarsh/colab/blob/main/2nd%20Programme.ipynb\" target=\"_parent\"><img src=\"https://colab.research.google.com/assets/colab-badge.svg\" alt=\"Open In Colab\"/></a>"
      ]
    },
    {
      "cell_type": "code",
      "source": [
        "import pandas as pd\n",
        "\n",
        "# Importing data from a CSV file\n",
        "def import_data(file_path):\n",
        "    try:\n",
        "        # Read data from CSV file into a DataFrame\n",
        "        df = pd.read_csv(file_path)\n",
        "        print(\"Data imported successfully:\")\n",
        "        print(df)\n",
        "        return df\n",
        "    except Exception as e:\n",
        "        print(\"Error during data import:\", str(e))\n",
        "        return None\n",
        "\n",
        "# Exporting data to a CSV file\n",
        "def export_data(data_frame, output_path):\n",
        "    try:\n",
        "        # Write DataFrame to a CSV file\n",
        "        data_frame.to_csv(output_path, index=False)\n",
        "        print(\"Data exported successfully to:\", output_path)\n",
        "    except Exception as e:\n",
        "        print(\"Error during data export:\", str(e))\n",
        "\n",
        "# Example usage\n",
        "file_path = 'example_data.csv'\n",
        "output_path = 'exported_data.csv'\n",
        "\n",
        "# Import data from CSV file\n",
        "imported_data = import_data(file_path)\n",
        "\n",
        "if imported_data is not None:\n",
        "    print(\"\\nData Summary:\")\n",
        "    print(imported_data.describe())\n",
        "\n",
        "# Export data to a new CSV file\n",
        "if imported_data is not None:\n",
        "    export_data(imported_data, output_path)\n"
      ],
      "metadata": {
        "id": "eaakzMmNddkn"
      },
      "execution_count": null,
      "outputs": []
    }
  ],
  "metadata": {
    "colab": {
      "name": "Welcome To Colaboratory",
      "toc_visible": true,
      "provenance": [],
      "include_colab_link": true
    },
    "kernelspec": {
      "display_name": "Python 3",
      "name": "python3"
    }
  },
  "nbformat": 4,
  "nbformat_minor": 0
}